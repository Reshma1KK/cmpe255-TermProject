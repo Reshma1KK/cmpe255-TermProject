{
 "cells": [
  {
   "cell_type": "code",
   "execution_count": null,
   "id": "a6c2040b",
   "metadata": {
    "id": "7c9bc14b"
   },
   "outputs": [],
   "source": [
    "# Importing Libraries \n",
    "import numpy as np\n",
    "import pandas as pd\n",
    "import matplotlib.pyplot as plt\n",
    "import seaborn as sns"
   ]
  },
  {
   "cell_type": "code",
   "execution_count": null,
   "id": "69d36009",
   "metadata": {
    "colab": {
     "base_uri": "https://localhost:8080/",
     "height": 73,
     "resources": {
      "http://localhost:8080/nbextensions/google.colab/files.js": {
       "data": "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",
       "headers": [
        [
         "content-type",
         "application/javascript"
        ]
       ],
       "ok": true,
       "status": 200,
       "status_text": ""
      }
     }
    },
    "id": "wVuVdy1vzBA1",
    "outputId": "36b4386e-5c59-45a9-f765-04a2a68987b2"
   },
   "outputs": [],
   "source": [
    "# from google.colab import files\n",
    "# uploaded = files.upload()"
   ]
  },
  {
   "cell_type": "code",
   "execution_count": null,
   "id": "4f95eb16",
   "metadata": {
    "id": "BjW1bBmWzHc8"
   },
   "outputs": [],
   "source": [
    "dataset = pd.read_csv('dataset_small.csv')"
   ]
  },
  {
   "cell_type": "code",
   "execution_count": null,
   "id": "793ca9bd",
   "metadata": {
    "colab": {
     "base_uri": "https://localhost:8080/",
     "height": 487
    },
    "id": "kGBo6FC61WkS",
    "outputId": "1c2dd53c-286a-4bd9-d47f-cc6b0e6d5b3b"
   },
   "outputs": [],
   "source": [
    "dataset"
   ]
  },
  {
   "cell_type": "code",
   "execution_count": null,
   "id": "d7aa8a21",
   "metadata": {
    "colab": {
     "base_uri": "https://localhost:8080/",
     "height": 393
    },
    "id": "LNmcz909zqGA",
    "outputId": "bcbd3295-70ba-48ae-e064-7d463032084f"
   },
   "outputs": [],
   "source": [
    "dataset.describe()\n"
   ]
  },
  {
   "cell_type": "code",
   "execution_count": null,
   "id": "2fff758d",
   "metadata": {
    "colab": {
     "base_uri": "https://localhost:8080/"
    },
    "id": "-Iu7roSt0XPu",
    "outputId": "404de4c6-6f87-40f8-aa10-8ca6aa856e8a"
   },
   "outputs": [],
   "source": [
    "dataset.isnull().sum()"
   ]
  },
  {
   "cell_type": "code",
   "execution_count": null,
   "id": "303c3455",
   "metadata": {
    "colab": {
     "base_uri": "https://localhost:8080/"
    },
    "id": "rhsA0GUH0_IL",
    "outputId": "e26e9543-f851-434b-8bd8-de5de21d93e5"
   },
   "outputs": [],
   "source": [
    "#length of dataset before dropping duplicate rows\n",
    "lengthbeforedropping=len(dataset)\n",
    "lengthbeforedropping"
   ]
  },
  {
   "cell_type": "code",
   "execution_count": null,
   "id": "698b2437",
   "metadata": {
    "colab": {
     "base_uri": "https://localhost:8080/"
    },
    "id": "IDT3NSYB4ylc",
    "outputId": "75c0aefc-16a0-48a0-8e99-f4d0ec9444a1"
   },
   "outputs": [],
   "source": [
    "#length of dataset after dropping duplicate rows\n",
    "dataset.drop_duplicates(keep=False,inplace=True)\n",
    "lengthafterdropping=len(dataset)\n",
    "lengthafterdropping\n"
   ]
  },
  {
   "cell_type": "code",
   "execution_count": null,
   "id": "228caa90",
   "metadata": {
    "colab": {
     "base_uri": "https://localhost:8080/"
    },
    "id": "gSaoyo2E47NQ",
    "outputId": "48a12730-c593-4209-c349-c1cd7bdc0b29"
   },
   "outputs": [],
   "source": [
    "#Duplicate Rows\n",
    "duplicaterows=lengthbeforedropping-lengthafterdropping\n",
    "duplicaterows"
   ]
  },
  {
   "cell_type": "code",
   "execution_count": null,
   "id": "301bdd8f",
   "metadata": {
    "colab": {
     "base_uri": "https://localhost:8080/"
    },
    "id": "GudWA43x5JUV",
    "outputId": "de12b263-65f8-493a-a446-9d349bd88d09"
   },
   "outputs": [],
   "source": [
    "#Replacing the value -1 with Nan and then deleting those rows\n",
    "\n",
    "#Finding rows which contain the value -1\n",
    "dataset.isin(['-1']).count()\n"
   ]
  },
  {
   "cell_type": "code",
   "execution_count": null,
   "id": "41c3fcfb",
   "metadata": {
    "id": "LvpDPwMl8UF9"
   },
   "outputs": [],
   "source": [
    "#All the rows have the value -1 in atleast one of the columns, so lets remove the rows which have the maximum number of -1"
   ]
  },
  {
   "cell_type": "code",
   "execution_count": null,
   "id": "78a81275",
   "metadata": {
    "colab": {
     "base_uri": "https://localhost:8080/"
    },
    "id": "sD6jt3UyLurq",
    "outputId": "40ff73c7-97d0-47dd-f36e-d1d3bf7421f3"
   },
   "outputs": [],
   "source": [
    "#Finding columns which have -1 \n",
    "dataset.columns[dataset.isin([-1]).any()]"
   ]
  },
  {
   "cell_type": "code",
   "execution_count": null,
   "id": "e6cfcd8b",
   "metadata": {
    "colab": {
     "base_uri": "https://localhost:8080/"
    },
    "id": "D68nJdhyQgxh",
    "outputId": "5a9a59de-b5e9-4b6e-e8fa-0b60da8b9fdc"
   },
   "outputs": [],
   "source": [
    "# Data distribution of the features\n",
    "cols={} \n",
    "for i in dataset.columns:\n",
    "    print(\"- - - - - New Column Here- - - - - - - \")\n",
    "    x=dataset[i].value_counts(normalize=True)\n",
    "    print(x)\n",
    "    if dataset[i].isin([-1]).any():\n",
    "        cols[i]=x[-1] "
   ]
  },
  {
   "cell_type": "markdown",
   "id": "e100f11e",
   "metadata": {
    "id": "RaPTHtWQ9E4o"
   },
   "source": [
    "###Removing the existing -1's and replacing with NAN in order to replace the values using different imputers.\n"
   ]
  },
  {
   "cell_type": "code",
   "execution_count": null,
   "id": "d96e4e8f",
   "metadata": {
    "id": "ihA8NzMJ9u9Z"
   },
   "outputs": [],
   "source": [
    "for i,j in cols.items():\n",
    "    if j>=0.8:\n",
    "        dataset.drop(i,inplace=True,axis=1)\n",
    "\n",
    "df_imp=dataset.replace(to_replace = -1,value =np.nan)"
   ]
  },
  {
   "cell_type": "markdown",
   "id": "9aa526fe",
   "metadata": {
    "id": "fgCCIi2wIU6D"
   },
   "source": [
    "### HERE WE HAVE DROPPED ALL THE COLUMNS WHICH HAVE WHICH HAVE A PERCENTAGE OF -1'S MORE 80%.\n"
   ]
  },
  {
   "cell_type": "code",
   "execution_count": null,
   "id": "8d6e5b55",
   "metadata": {
    "colab": {
     "base_uri": "https://localhost:8080/",
     "height": 487
    },
    "id": "B7WoPsiwIRXM",
    "outputId": "bb31c08b-b214-40d0-8919-04143ab975bf"
   },
   "outputs": [],
   "source": [
    "df_imp"
   ]
  },
  {
   "cell_type": "markdown",
   "id": "f56adbb1",
   "metadata": {
    "id": "R17QgVWCOtEB"
   },
   "source": [
    "###Now We impute the data with different imputation techiniques which we later might use it for model training. The different imputation techniques which we can use are Mean, Mode, Median, KNN Imputation."
   ]
  },
  {
   "cell_type": "markdown",
   "id": "2f5ef7f1",
   "metadata": {
    "id": "-2z_vd6HPQCa"
   },
   "source": [
    "###Mean Imputation"
   ]
  },
  {
   "cell_type": "code",
   "execution_count": null,
   "id": "f1a89780",
   "metadata": {
    "colab": {
     "base_uri": "https://localhost:8080/"
    },
    "id": "drVbbCuNPDrP",
    "outputId": "f1a06d8c-9bed-4af5-82e3-e505e4669522"
   },
   "outputs": [],
   "source": [
    "from sklearn.impute import SimpleImputer\n",
    "imp_mean = SimpleImputer( strategy='mean')\n",
    "imp_mean.fit(df_imp)\n",
    "mean_imputed_df = imp_mean.transform(df_imp)\n",
    "mean_imputed_df = pd.DataFrame(mean_imputed_df,columns = df_imp.columns)\n",
    "mean_imputed_df.shape"
   ]
  },
  {
   "cell_type": "code",
   "execution_count": null,
   "id": "de9dfae0",
   "metadata": {
    "colab": {
     "base_uri": "https://localhost:8080/",
     "height": 393
    },
    "id": "iecmv8W7PYA2",
    "outputId": "03a39af7-d64c-431c-fe0b-fc3da1b81465"
   },
   "outputs": [],
   "source": [
    "mean_imputed_df.describe()"
   ]
  },
  {
   "cell_type": "markdown",
   "id": "7e4533a4",
   "metadata": {
    "id": "y1fiihaOPdPS"
   },
   "source": [
    "###Mode Imputation"
   ]
  },
  {
   "cell_type": "code",
   "execution_count": null,
   "id": "d0d80551",
   "metadata": {
    "colab": {
     "base_uri": "https://localhost:8080/"
    },
    "id": "mkZOP_pYPhQj",
    "outputId": "6cd98145-03c4-497c-abcc-758e3976b115"
   },
   "outputs": [],
   "source": [
    "imp_mean = SimpleImputer( strategy='most_frequent')\n",
    "imp_mean.fit(df_imp)\n",
    "mostFreq_imputed_df = imp_mean.transform(df_imp)\n",
    "mostFreq_imputed_df = pd.DataFrame(mostFreq_imputed_df,columns = df_imp.columns)\n",
    "mostFreq_imputed_df.shape"
   ]
  },
  {
   "cell_type": "code",
   "execution_count": null,
   "id": "500d3b83",
   "metadata": {
    "colab": {
     "base_uri": "https://localhost:8080/",
     "height": 393
    },
    "id": "xujUNzNbPlOf",
    "outputId": "95997b6f-2706-4fe6-d3e8-2366b18db118"
   },
   "outputs": [],
   "source": [
    "mostFreq_imputed_df.describe()"
   ]
  },
  {
   "cell_type": "markdown",
   "id": "e9f4888a",
   "metadata": {
    "id": "xAey5x0yP1rI"
   },
   "source": [
    "###Median Imputaion"
   ]
  },
  {
   "cell_type": "code",
   "execution_count": null,
   "id": "2b946589",
   "metadata": {
    "colab": {
     "base_uri": "https://localhost:8080/"
    },
    "id": "Q5L7breHP0jO",
    "outputId": "a7b20d31-0c0b-4aab-904f-e804b62a3528"
   },
   "outputs": [],
   "source": [
    "imp_mean = SimpleImputer( strategy='median')\n",
    "imp_mean.fit(df_imp)\n",
    "median_imputed_df = imp_mean.transform(df_imp)\n",
    "median_imputed_df = pd.DataFrame(median_imputed_df,columns = df_imp.columns)\n",
    "median_imputed_df.shape"
   ]
  },
  {
   "cell_type": "code",
   "execution_count": null,
   "id": "831e05c8",
   "metadata": {
    "colab": {
     "base_uri": "https://localhost:8080/",
     "height": 393
    },
    "id": "TBM57xp0QBXq",
    "outputId": "14987d0d-2a3c-434f-91d0-8eab3fe05ef7"
   },
   "outputs": [],
   "source": [
    "median_imputed_df.describe()"
   ]
  },
  {
   "cell_type": "markdown",
   "id": "ae10abb1",
   "metadata": {
    "id": "IrrLf5uSQeQX"
   },
   "source": [
    "###KNN Imputation"
   ]
  },
  {
   "cell_type": "code",
   "execution_count": null,
   "id": "7912d022",
   "metadata": {
    "id": "G66cJUGqQm2t"
   },
   "outputs": [],
   "source": [
    "# import sklearn.neighbors._base\n",
    "# import sys\n",
    "\n",
    "# sys.modules['sklearn.neighbors.base'] = sklearn.neighbors._base\n",
    "\n",
    "# #usind KNN imputer\n",
    "# from sklearn.impute import KNNImputer\n",
    "# r=KNNImputer(n_neighbors=3)\n",
    "# knn_imputed_df=r.fit_transform(df_imp)\n",
    "# knn_imputed_df=pd.DataFrame(knn_imputed_df,columns=df_imp.columns)"
   ]
  }
 ],
 "metadata": {
  "colab": {
   "collapsed_sections": [],
   "history_visible": true,
   "name": "Term_Proj.ipynb",
   "provenance": []
  },
  "kernelspec": {
   "display_name": "Python 3 (ipykernel)",
   "language": "python",
   "name": "python3"
  },
  "language_info": {
   "codemirror_mode": {
    "name": "ipython",
    "version": 3
   },
   "file_extension": ".py",
   "mimetype": "text/x-python",
   "name": "python",
   "nbconvert_exporter": "python",
   "pygments_lexer": "ipython3",
   "version": "3.9.7"
  }
 },
 "nbformat": 4,
 "nbformat_minor": 5
}
